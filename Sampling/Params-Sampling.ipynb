{
 "cells": [
  {
   "cell_type": "code",
   "execution_count": 3,
   "id": "social-alpha",
   "metadata": {},
   "outputs": [],
   "source": [
    "import numpy as np\n",
    "import random \n",
    "import os \n",
    "import sys\n",
    "import ast\n",
    "from scipy.stats import loguniform\n",
    "import pandas as pd"
   ]
  },
  {
   "cell_type": "code",
   "execution_count": 121,
   "id": "changed-edmonton",
   "metadata": {},
   "outputs": [
    {
     "data": {
      "text/plain": [
       "2.923235993674148"
      ]
     },
     "execution_count": 121,
     "metadata": {},
     "output_type": "execute_result"
    }
   ],
   "source": [
    "# np.random.uniform(1e-6, 6)\n",
    "loguniform.rvs(1e-1, 6)"
   ]
  },
  {
   "cell_type": "code",
   "execution_count": 8,
   "id": "authorized-harvest",
   "metadata": {},
   "outputs": [],
   "source": [
    "np.random.seed(42)\n",
    "def generate_sample_config():\n",
    "    batch_size = np.random.randint(3,8)\n",
    "    batch_size = 2**batch_size\n",
    "    \n",
    "#     dataset_type = np.random.randint(0,2) # 0: iid 1: non-iid\n",
    "    dataset_type = 1 # 0: iid 1: non-iid\n",
    "    #  Can be replaced by alpha value \n",
    "\n",
    "    lr = loguniform.rvs(1e-6, 1e0)\n",
    "    wd = loguniform.rvs(1e-6, 1e-2)\n",
    "    \n",
    "    \n",
    "    partition_alpha = loguniform.rvs(1e-1, 6)\n",
    "    \n",
    "    \n",
    "    client_num_in_total = np.random.randint(1,20)\n",
    "    epochs = max([5, 10])\n",
    "    comm_round = np.random.randint(5, 30)\n",
    "    \n",
    "    return [dataset_type, partition_alpha, batch_size, lr, wd, epochs, client_num_in_total, comm_round]\n",
    "\n",
    "parameters = []\n",
    "\n",
    "for _ in range(400):\n",
    "    params = generate_sample_config()\n",
    "    parameters.append(params)\n",
    "\n",
    "\n",
    "all_runs = np.array(parameters)\n",
    "# a_file = open(\"./all_runs_config_2.txt\", \"w\")\n",
    "# np.savetxt(a_file, np.array([\"dataset_type\", \"partition_alpha\", \"batch_size\", \"lr\", \"wd\", \"epochs\", \"client_num\", \"round\"], dtype=str), fmt='%s')\n",
    "# for row in all_runs:\n",
    "#     print(row)\n",
    "#     np.savetxt(a_file, row)\n",
    "with open('all_runs_config_2.txt', 'w') as f:\n",
    "    for item in all_runs:\n",
    "        f.write(\"%s\\n\" % list(item))"
   ]
  },
  {
   "cell_type": "code",
   "execution_count": 7,
   "id": "surgical-pressing",
   "metadata": {
    "tags": []
   },
   "outputs": [],
   "source": [
    "np.savetxt(\"all_runs_config.csv\", all_runs, delimiter=\",\")"
   ]
  },
  {
   "cell_type": "code",
   "execution_count": 49,
   "id": "final-spare",
   "metadata": {},
   "outputs": [],
   "source": [
    "df = pd.read_csv('./all_runs_config.csv')"
   ]
  },
  {
   "cell_type": "code",
   "execution_count": 23,
   "id": "bdb4fe34-7982-4dba-9aa7-f2cc51ef2e2b",
   "metadata": {},
   "outputs": [],
   "source": [
    "partition_method, partition_alpha, batch_size, lr, wd, epochs, client_num_in_total, comm_round = list(df.iloc[0])"
   ]
  },
  {
   "cell_type": "code",
   "execution_count": 24,
   "id": "4f488a34-a13f-47a7-95fa-261a35ffc538",
   "metadata": {},
   "outputs": [
    {
     "data": {
      "text/plain": [
       "{'partition_method': 0.0,\n",
       " 'partition_alpha': 1.1515687067312468,\n",
       " 'batch_size': 64.0,\n",
       " 'lr': 1.2606912518374064e-05,\n",
       " 'wd': 0.001314510323215,\n",
       " 'epochs': 10.0,\n",
       " 'client_num_in_total': 19.0,\n",
       " 'comm_round': 27.0}"
      ]
     },
     "execution_count": 24,
     "metadata": {},
     "output_type": "execute_result"
    }
   ],
   "source": [
    "df.iloc[0].to_dict()"
   ]
  },
  {
   "cell_type": "code",
   "execution_count": 35,
   "id": "2c46d031-9f49-41f8-bc1b-4f97f3290fa1",
   "metadata": {},
   "outputs": [],
   "source": [
    "filt = (df['partition_method'] == 0.0)"
   ]
  },
  {
   "cell_type": "code",
   "execution_count": 36,
   "id": "93575bb8-3956-4371-9aee-43c246087208",
   "metadata": {},
   "outputs": [],
   "source": [
    "# df[filt]['partition_method'] = 'non-iid'\n",
    "df.loc[filt, 'partition_method'] = 'iid'"
   ]
  },
  {
   "cell_type": "code",
   "execution_count": 42,
   "id": "0b423696-9405-4da0-899b-aafb3d8bf318",
   "metadata": {},
   "outputs": [
    {
     "name": "stdout",
     "output_type": "stream",
     "text": [
      "partition_method iid\n",
      "partition_alpha 1.1515687067312468\n",
      "batch_size 64.0\n",
      "lr 1.2606912518374064e-05\n",
      "wd 0.001314510323215\n",
      "epochs 10.0\n",
      "client_num_in_total 19.0\n",
      "comm_round 27.0\n"
     ]
    }
   ],
   "source": [
    "for k,v in df.iloc[0].to_dict().items():\n",
    "    print(k, v)"
   ]
  },
  {
   "cell_type": "code",
   "execution_count": 51,
   "id": "97d15838-6b27-4b84-93ff-66d3529249bc",
   "metadata": {},
   "outputs": [
    {
     "data": {
      "text/plain": [
       "[1.0,\n",
       " 3.1431557557468746,\n",
       " 8.0,\n",
       " 0.0600939365416144,\n",
       " 6.876813268832249e-05,\n",
       " 10.0,\n",
       " 17.0,\n",
       " 5.0]"
      ]
     },
     "execution_count": 51,
     "metadata": {},
     "output_type": "execute_result"
    }
   ],
   "source": [
    "list(df.iloc[100])"
   ]
  },
  {
   "cell_type": "code",
   "execution_count": null,
   "id": "3844f3b7-797f-4b7c-89c3-f31b1423b6d5",
   "metadata": {},
   "outputs": [],
   "source": []
  }
 ],
 "metadata": {
  "kernelspec": {
   "display_name": "fed-benchmark",
   "language": "python",
   "name": "fed-benchmark"
  },
  "language_info": {
   "codemirror_mode": {
    "name": "ipython",
    "version": 3
   },
   "file_extension": ".py",
   "mimetype": "text/x-python",
   "name": "python",
   "nbconvert_exporter": "python",
   "pygments_lexer": "ipython3",
   "version": "3.7.10"
  }
 },
 "nbformat": 4,
 "nbformat_minor": 5
}
